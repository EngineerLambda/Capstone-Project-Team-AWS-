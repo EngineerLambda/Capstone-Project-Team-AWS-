{
  "cells": [
    {
      "cell_type": "code",
      "execution_count": null,
      "id": "cc7a724b",
      "metadata": {
        "id": "cc7a724b"
      },
      "outputs": [],
      "source": [
        "import pandas as pd\n",
        "import numpy as np\n",
        "import matplotlib.pyplot as plt\n",
        "import seaborn as sns"
      ]
    },
    {
      "cell_type": "code",
      "execution_count": null,
      "id": "5839bc2e",
      "metadata": {
        "id": "5839bc2e"
      },
      "outputs": [],
      "source": [
        "data = pd.read_csv(\"/content/banknotes.csv\")"
      ]
    },
    {
      "cell_type": "code",
      "execution_count": null,
      "id": "415b9807",
      "metadata": {
        "scrolled": true,
        "colab": {
          "base_uri": "https://localhost:8080/",
          "height": 206
        },
        "id": "415b9807",
        "outputId": "a7f14513-4a04-4d24-e236-3b75844a4c27"
      },
      "outputs": [
        {
          "output_type": "execute_result",
          "data": {
            "text/plain": [
              "   conterfeit  Length   Left  Right  Bottom   Top  Diagonal\n",
              "0           0   214.8  131.0  131.1     9.0   9.7     141.0\n",
              "1           0   214.6  129.7  129.7     8.1   9.5     141.7\n",
              "2           0   214.8  129.7  129.7     8.7   9.6     142.2\n",
              "3           0   214.8  129.7  129.6     7.5  10.4     142.0\n",
              "4           0   215.0  129.6  129.7    10.4   7.7     141.8"
            ],
            "text/html": [
              "\n",
              "  <div id=\"df-aa5852f9-eb17-40ea-b6c8-a45b316c0ecd\">\n",
              "    <div class=\"colab-df-container\">\n",
              "      <div>\n",
              "<style scoped>\n",
              "    .dataframe tbody tr th:only-of-type {\n",
              "        vertical-align: middle;\n",
              "    }\n",
              "\n",
              "    .dataframe tbody tr th {\n",
              "        vertical-align: top;\n",
              "    }\n",
              "\n",
              "    .dataframe thead th {\n",
              "        text-align: right;\n",
              "    }\n",
              "</style>\n",
              "<table border=\"1\" class=\"dataframe\">\n",
              "  <thead>\n",
              "    <tr style=\"text-align: right;\">\n",
              "      <th></th>\n",
              "      <th>conterfeit</th>\n",
              "      <th>Length</th>\n",
              "      <th>Left</th>\n",
              "      <th>Right</th>\n",
              "      <th>Bottom</th>\n",
              "      <th>Top</th>\n",
              "      <th>Diagonal</th>\n",
              "    </tr>\n",
              "  </thead>\n",
              "  <tbody>\n",
              "    <tr>\n",
              "      <th>0</th>\n",
              "      <td>0</td>\n",
              "      <td>214.8</td>\n",
              "      <td>131.0</td>\n",
              "      <td>131.1</td>\n",
              "      <td>9.0</td>\n",
              "      <td>9.7</td>\n",
              "      <td>141.0</td>\n",
              "    </tr>\n",
              "    <tr>\n",
              "      <th>1</th>\n",
              "      <td>0</td>\n",
              "      <td>214.6</td>\n",
              "      <td>129.7</td>\n",
              "      <td>129.7</td>\n",
              "      <td>8.1</td>\n",
              "      <td>9.5</td>\n",
              "      <td>141.7</td>\n",
              "    </tr>\n",
              "    <tr>\n",
              "      <th>2</th>\n",
              "      <td>0</td>\n",
              "      <td>214.8</td>\n",
              "      <td>129.7</td>\n",
              "      <td>129.7</td>\n",
              "      <td>8.7</td>\n",
              "      <td>9.6</td>\n",
              "      <td>142.2</td>\n",
              "    </tr>\n",
              "    <tr>\n",
              "      <th>3</th>\n",
              "      <td>0</td>\n",
              "      <td>214.8</td>\n",
              "      <td>129.7</td>\n",
              "      <td>129.6</td>\n",
              "      <td>7.5</td>\n",
              "      <td>10.4</td>\n",
              "      <td>142.0</td>\n",
              "    </tr>\n",
              "    <tr>\n",
              "      <th>4</th>\n",
              "      <td>0</td>\n",
              "      <td>215.0</td>\n",
              "      <td>129.6</td>\n",
              "      <td>129.7</td>\n",
              "      <td>10.4</td>\n",
              "      <td>7.7</td>\n",
              "      <td>141.8</td>\n",
              "    </tr>\n",
              "  </tbody>\n",
              "</table>\n",
              "</div>\n",
              "      <button class=\"colab-df-convert\" onclick=\"convertToInteractive('df-aa5852f9-eb17-40ea-b6c8-a45b316c0ecd')\"\n",
              "              title=\"Convert this dataframe to an interactive table.\"\n",
              "              style=\"display:none;\">\n",
              "        \n",
              "  <svg xmlns=\"http://www.w3.org/2000/svg\" height=\"24px\"viewBox=\"0 0 24 24\"\n",
              "       width=\"24px\">\n",
              "    <path d=\"M0 0h24v24H0V0z\" fill=\"none\"/>\n",
              "    <path d=\"M18.56 5.44l.94 2.06.94-2.06 2.06-.94-2.06-.94-.94-2.06-.94 2.06-2.06.94zm-11 1L8.5 8.5l.94-2.06 2.06-.94-2.06-.94L8.5 2.5l-.94 2.06-2.06.94zm10 10l.94 2.06.94-2.06 2.06-.94-2.06-.94-.94-2.06-.94 2.06-2.06.94z\"/><path d=\"M17.41 7.96l-1.37-1.37c-.4-.4-.92-.59-1.43-.59-.52 0-1.04.2-1.43.59L10.3 9.45l-7.72 7.72c-.78.78-.78 2.05 0 2.83L4 21.41c.39.39.9.59 1.41.59.51 0 1.02-.2 1.41-.59l7.78-7.78 2.81-2.81c.8-.78.8-2.07 0-2.86zM5.41 20L4 18.59l7.72-7.72 1.47 1.35L5.41 20z\"/>\n",
              "  </svg>\n",
              "      </button>\n",
              "      \n",
              "  <style>\n",
              "    .colab-df-container {\n",
              "      display:flex;\n",
              "      flex-wrap:wrap;\n",
              "      gap: 12px;\n",
              "    }\n",
              "\n",
              "    .colab-df-convert {\n",
              "      background-color: #E8F0FE;\n",
              "      border: none;\n",
              "      border-radius: 50%;\n",
              "      cursor: pointer;\n",
              "      display: none;\n",
              "      fill: #1967D2;\n",
              "      height: 32px;\n",
              "      padding: 0 0 0 0;\n",
              "      width: 32px;\n",
              "    }\n",
              "\n",
              "    .colab-df-convert:hover {\n",
              "      background-color: #E2EBFA;\n",
              "      box-shadow: 0px 1px 2px rgba(60, 64, 67, 0.3), 0px 1px 3px 1px rgba(60, 64, 67, 0.15);\n",
              "      fill: #174EA6;\n",
              "    }\n",
              "\n",
              "    [theme=dark] .colab-df-convert {\n",
              "      background-color: #3B4455;\n",
              "      fill: #D2E3FC;\n",
              "    }\n",
              "\n",
              "    [theme=dark] .colab-df-convert:hover {\n",
              "      background-color: #434B5C;\n",
              "      box-shadow: 0px 1px 3px 1px rgba(0, 0, 0, 0.15);\n",
              "      filter: drop-shadow(0px 1px 2px rgba(0, 0, 0, 0.3));\n",
              "      fill: #FFFFFF;\n",
              "    }\n",
              "  </style>\n",
              "\n",
              "      <script>\n",
              "        const buttonEl =\n",
              "          document.querySelector('#df-aa5852f9-eb17-40ea-b6c8-a45b316c0ecd button.colab-df-convert');\n",
              "        buttonEl.style.display =\n",
              "          google.colab.kernel.accessAllowed ? 'block' : 'none';\n",
              "\n",
              "        async function convertToInteractive(key) {\n",
              "          const element = document.querySelector('#df-aa5852f9-eb17-40ea-b6c8-a45b316c0ecd');\n",
              "          const dataTable =\n",
              "            await google.colab.kernel.invokeFunction('convertToInteractive',\n",
              "                                                     [key], {});\n",
              "          if (!dataTable) return;\n",
              "\n",
              "          const docLinkHtml = 'Like what you see? Visit the ' +\n",
              "            '<a target=\"_blank\" href=https://colab.research.google.com/notebooks/data_table.ipynb>data table notebook</a>'\n",
              "            + ' to learn more about interactive tables.';\n",
              "          element.innerHTML = '';\n",
              "          dataTable['output_type'] = 'display_data';\n",
              "          await google.colab.output.renderOutput(dataTable, element);\n",
              "          const docLink = document.createElement('div');\n",
              "          docLink.innerHTML = docLinkHtml;\n",
              "          element.appendChild(docLink);\n",
              "        }\n",
              "      </script>\n",
              "    </div>\n",
              "  </div>\n",
              "  "
            ]
          },
          "metadata": {},
          "execution_count": 6
        }
      ],
      "source": [
        "data.head()"
      ]
    },
    {
      "cell_type": "code",
      "execution_count": null,
      "id": "b3553927",
      "metadata": {
        "colab": {
          "base_uri": "https://localhost:8080/"
        },
        "id": "b3553927",
        "outputId": "5219ac15-0623-4903-cd2c-15bb0766cb5d"
      },
      "outputs": [
        {
          "output_type": "execute_result",
          "data": {
            "text/plain": [
              "(200, 7)"
            ]
          },
          "metadata": {},
          "execution_count": 7
        }
      ],
      "source": [
        "\n",
        "import sklearn.utils\n",
        "data_df = sklearn.utils.shuffle(data)\n",
        "data_df = data_df.reset_index(drop=True)\n",
        "data_df.shape"
      ]
    },
    {
      "cell_type": "code",
      "execution_count": null,
      "id": "68066ea0",
      "metadata": {
        "id": "68066ea0"
      },
      "outputs": [],
      "source": [
        "X = data_df.drop(columns='conterfeit')\n",
        "y = data_df['conterfeit']"
      ]
    },
    {
      "cell_type": "markdown",
      "id": "4e5a69d9",
      "metadata": {
        "id": "4e5a69d9"
      },
      "source": [
        "### Removing Outliers from the columns"
      ]
    },
    {
      "cell_type": "code",
      "execution_count": null,
      "id": "7d5823b5",
      "metadata": {
        "scrolled": true,
        "colab": {
          "base_uri": "https://localhost:8080/"
        },
        "id": "7d5823b5",
        "outputId": "38c238dc-5dff-4636-c1c1-dee01b18bb9d"
      },
      "outputs": [
        {
          "output_type": "stream",
          "name": "stdout",
          "text": [
            "Original data shape: (200, 7)\n",
            "Filtered data shape: (192, 7)\n"
          ]
        }
      ],
      "source": [
        "# Define the columns to filter\n",
        "columns = ['Length', 'Left', 'Right','Bottom','Top','Diagonal']\n",
        "\n",
        "# Calculate the IQR for each column\n",
        "Q1 = data[columns].quantile(0.25)\n",
        "Q3 = data[columns].quantile(0.75)\n",
        "IQR = Q3 - Q1\n",
        "\n",
        "# Filter out the outliers\n",
        "data_out = data[~((data[columns] < (Q1 - 1.5 * IQR)) |(data[columns] > (Q3 + 1.5 * IQR))).any(axis=1)]\n",
        "\n",
        "# Print the original and filtered data shape\n",
        "print(\"Original data shape:\", data.shape)\n",
        "print(\"Filtered data shape:\", data_out.shape)\n"
      ]
    },
    {
      "cell_type": "code",
      "execution_count": null,
      "id": "86a58787",
      "metadata": {
        "colab": {
          "base_uri": "https://localhost:8080/"
        },
        "id": "86a58787",
        "outputId": "960e2691-744f-4180-9029-b72bb1abecd4"
      },
      "outputs": [
        {
          "output_type": "execute_result",
          "data": {
            "text/plain": [
              "conterfeit    0\n",
              "Length        0\n",
              "Left          0\n",
              "Right         0\n",
              "Bottom        0\n",
              "Top           0\n",
              "Diagonal      0\n",
              "dtype: int64"
            ]
          },
          "metadata": {},
          "execution_count": 10
        }
      ],
      "source": [
        "data_out.isnull().sum()"
      ]
    },
    {
      "cell_type": "code",
      "execution_count": null,
      "id": "7e3a6051",
      "metadata": {
        "id": "7e3a6051"
      },
      "outputs": [],
      "source": [
        "X = data_out.drop(columns='conterfeit')\n",
        "y = data_out['conterfeit']"
      ]
    },
    {
      "cell_type": "markdown",
      "id": "1939e70f",
      "metadata": {
        "id": "1939e70f"
      },
      "source": [
        "data_out"
      ]
    },
    {
      "cell_type": "markdown",
      "id": "d2a9224d",
      "metadata": {
        "id": "d2a9224d"
      },
      "source": [
        "### Data Preprocessing"
      ]
    },
    {
      "cell_type": "code",
      "execution_count": null,
      "id": "75c43b0f",
      "metadata": {
        "colab": {
          "base_uri": "https://localhost:8080/"
        },
        "id": "75c43b0f",
        "outputId": "710f75d6-9f41-4c59-df49-f3caf978bc5a"
      },
      "outputs": [
        {
          "output_type": "execute_result",
          "data": {
            "text/plain": [
              "1    70\n",
              "0    64\n",
              "Name: conterfeit, dtype: int64"
            ]
          },
          "metadata": {},
          "execution_count": 12
        }
      ],
      "source": [
        "# Split the data into training and testing sets\n",
        "from sklearn.model_selection import train_test_split\n",
        "x_train, x_test, y_train, y_test = train_test_split(X, y, test_size=0.3, random_state=1)\n",
        "y_train.value_counts()"
      ]
    },
    {
      "cell_type": "code",
      "execution_count": null,
      "id": "b3dba8e5",
      "metadata": {
        "id": "b3dba8e5"
      },
      "outputs": [],
      "source": [
        "import imblearn\n",
        "from imblearn.over_sampling import SMOTE\n",
        "smote = SMOTE(random_state=1)\n",
        "x_train_balanced, y_balanced = smote.fit_resample(x_train, y_train)"
      ]
    },
    {
      "cell_type": "code",
      "execution_count": null,
      "id": "e024bded",
      "metadata": {
        "id": "e024bded"
      },
      "outputs": [],
      "source": [
        "from sklearn.preprocessing import MinMaxScaler\n",
        "scaler = MinMaxScaler()\n",
        "normalised_train_df = scaler.fit_transform(x_train_balanced)\n",
        "normalised_train_df = pd.DataFrame(normalised_train_df, columns=x_train_balanced.columns)"
      ]
    },
    {
      "cell_type": "code",
      "execution_count": null,
      "id": "64c2a801",
      "metadata": {
        "id": "64c2a801"
      },
      "outputs": [],
      "source": [
        "x_test = x_test.reset_index(drop=True)\n",
        "normalised_test_df = scaler.transform(x_test)\n",
        "normalised_test_df = pd.DataFrame(normalised_test_df, columns=x_test.columns)"
      ]
    },
    {
      "cell_type": "markdown",
      "id": "a8772da9",
      "metadata": {
        "id": "a8772da9"
      },
      "source": [
        "### Model Training and Evaluation"
      ]
    },
    {
      "cell_type": "code",
      "execution_count": null,
      "id": "d6942f67",
      "metadata": {
        "scrolled": true,
        "id": "d6942f67"
      },
      "outputs": [],
      "source": [
        "from sklearn.linear_model import LogisticRegression\n",
        "from sklearn.tree import DecisionTreeClassifier\n",
        "from sklearn.svm import SVC\n",
        "from sklearn.ensemble import RandomForestClassifier, GradientBoostingClassifier\n",
        "from sklearn.naive_bayes import GaussianNB\n",
        "from sklearn.neighbors import KNeighborsClassifier\n",
        "from sklearn.metrics import recall_score, accuracy_score, precision_score, f1_score, confusion_matrix\n",
        "\n",
        "\n",
        "# Build models\n",
        "models = {'LogisticRegression': LogisticRegression(),\n",
        "          'DecisionTreeClassifier': DecisionTreeClassifier(),\n",
        "         'Svm': SVC(kernel='linear', C=1.0, random_state=42),\n",
        "          'RandomForestClassifier':  RandomForestClassifier(n_estimators=100, random_state=42),\n",
        "         'GradientBoostingClassifier': GradientBoostingClassifier(n_estimators=100, learning_rate=1.0, max_depth=1, random_state=42),\n",
        "         'KNeighborClassifier': KNeighborsClassifier(n_neighbors=5),\n",
        "          'Gaussian Naive_Bayes': GaussianNB()}"
      ]
    },
    {
      "cell_type": "code",
      "execution_count": null,
      "id": "816c484d",
      "metadata": {
        "id": "816c484d"
      },
      "outputs": [],
      "source": [
        "def train(model, normalised_train_df, y_balanced):\n",
        "    model.fit(normalised_train_df, y_balanced)\n",
        "    return model"
      ]
    },
    {
      "cell_type": "code",
      "execution_count": null,
      "id": "01ee306b",
      "metadata": {
        "colab": {
          "base_uri": "https://localhost:8080/"
        },
        "id": "01ee306b",
        "outputId": "8fd1c40e-d3c9-4f6d-f82a-449733fb35fc"
      },
      "outputs": [
        {
          "output_type": "execute_result",
          "data": {
            "text/plain": [
              "array([1.       , 0.9642401, 1.       , 1.       , 1.       ])"
            ]
          },
          "metadata": {},
          "execution_count": 18
        }
      ],
      "source": [
        "#Cross Validation\n",
        "from sklearn.model_selection import cross_val_score\n",
        "log_reg = LogisticRegression()\n",
        "scores = cross_val_score(log_reg, normalised_train_df, y_balanced, cv=5, scoring='f1_macro')\n",
        "scores"
      ]
    },
    {
      "cell_type": "code",
      "execution_count": null,
      "id": "1eef97e4",
      "metadata": {
        "id": "1eef97e4"
      },
      "outputs": [],
      "source": [
        "def score(model,normalised_test_df, y_test):\n",
        "    predictions = model.predict(normalised_test_df)\n",
        "    y_pred = predictions\n",
        "    \n",
        "    accuracy = accuracy_score(y_test, y_pred)\n",
        "    precision = precision_score(y_test, y_pred)\n",
        "    recall = recall_score(y_test, y_pred)\n",
        "    \n",
        "    \n",
        "    print('Accuracy:', accuracy)\n",
        "    print('Precision:', precision)\n",
        "    print(' Recall:',  recall)\n",
        "    print()\n",
        "    return [accuracy, precision, recall]"
      ]
    },
    {
      "cell_type": "code",
      "execution_count": null,
      "id": "d8c780d2",
      "metadata": {
        "id": "d8c780d2"
      },
      "outputs": [],
      "source": [
        "scoring1 = pd.DataFrame()\n",
        "scoring1['Metric'] = ['Accuracy', 'Precision', 'Recall']"
      ]
    },
    {
      "cell_type": "code",
      "execution_count": null,
      "id": "fa042a91",
      "metadata": {
        "colab": {
          "base_uri": "https://localhost:8080/"
        },
        "id": "fa042a91",
        "outputId": "63774de5-2a2b-401e-c609-7e9e2d17c1de"
      },
      "outputs": [
        {
          "output_type": "stream",
          "name": "stdout",
          "text": [
            "Performance of LogisticRegression on Test:\n",
            "================================================\n",
            "Test set:\n",
            "****************\n",
            "Accuracy: 1.0\n",
            "Precision: 1.0\n",
            " Recall: 1.0\n",
            "\n",
            "Performance of DecisionTreeClassifier on Test:\n",
            "================================================\n",
            "Test set:\n",
            "****************\n",
            "Accuracy: 1.0\n",
            "Precision: 1.0\n",
            " Recall: 1.0\n",
            "\n",
            "Performance of Svm on Test:\n",
            "================================================\n",
            "Test set:\n",
            "****************\n",
            "Accuracy: 1.0\n",
            "Precision: 1.0\n",
            " Recall: 1.0\n",
            "\n",
            "Performance of RandomForestClassifier on Test:\n",
            "================================================\n",
            "Test set:\n",
            "****************\n",
            "Accuracy: 1.0\n",
            "Precision: 1.0\n",
            " Recall: 1.0\n",
            "\n",
            "Performance of GradientBoostingClassifier on Test:\n",
            "================================================\n",
            "Test set:\n",
            "****************\n",
            "Accuracy: 0.9827586206896551\n",
            "Precision: 1.0\n",
            " Recall: 0.9629629629629629\n",
            "\n",
            "Performance of KNeighborClassifier on Test:\n",
            "================================================\n",
            "Test set:\n",
            "****************\n",
            "Accuracy: 1.0\n",
            "Precision: 1.0\n",
            " Recall: 1.0\n",
            "\n",
            "Performance of Gaussian Naive_Bayes on Test:\n",
            "================================================\n",
            "Test set:\n",
            "****************\n",
            "Accuracy: 1.0\n",
            "Precision: 1.0\n",
            " Recall: 1.0\n",
            "\n"
          ]
        }
      ],
      "source": [
        "for name, func in models.items():\n",
        "    print(f'Performance of {name} on Test:')\n",
        "    print('=='*24)\n",
        "    print ('Test set:')\n",
        "    print(\"**\"*8)\n",
        "    \n",
        "    model = train(func, normalised_train_df, y_balanced)\n",
        "    results = score(model, normalised_test_df, y_test)\n",
        "    scoring1[name] = results"
      ]
    },
    {
      "cell_type": "code",
      "execution_count": null,
      "id": "23140fbd",
      "metadata": {
        "colab": {
          "base_uri": "https://localhost:8080/",
          "height": 143
        },
        "id": "23140fbd",
        "outputId": "805e5903-2b87-4256-a698-b5fb9196891c"
      },
      "outputs": [
        {
          "output_type": "execute_result",
          "data": {
            "text/plain": [
              "      Metric  LogisticRegression  DecisionTreeClassifier  Svm  \\\n",
              "0   Accuracy                 1.0                     1.0  1.0   \n",
              "1  Precision                 1.0                     1.0  1.0   \n",
              "2     Recall                 1.0                     1.0  1.0   \n",
              "\n",
              "   RandomForestClassifier  GradientBoostingClassifier  KNeighborClassifier  \\\n",
              "0                     1.0                    0.982759                  1.0   \n",
              "1                     1.0                    1.000000                  1.0   \n",
              "2                     1.0                    0.962963                  1.0   \n",
              "\n",
              "   Gaussian Naive_Bayes  \n",
              "0                   1.0  \n",
              "1                   1.0  \n",
              "2                   1.0  "
            ],
            "text/html": [
              "\n",
              "  <div id=\"df-8c0f510f-15ba-4c79-afd6-78151e9a347f\">\n",
              "    <div class=\"colab-df-container\">\n",
              "      <div>\n",
              "<style scoped>\n",
              "    .dataframe tbody tr th:only-of-type {\n",
              "        vertical-align: middle;\n",
              "    }\n",
              "\n",
              "    .dataframe tbody tr th {\n",
              "        vertical-align: top;\n",
              "    }\n",
              "\n",
              "    .dataframe thead th {\n",
              "        text-align: right;\n",
              "    }\n",
              "</style>\n",
              "<table border=\"1\" class=\"dataframe\">\n",
              "  <thead>\n",
              "    <tr style=\"text-align: right;\">\n",
              "      <th></th>\n",
              "      <th>Metric</th>\n",
              "      <th>LogisticRegression</th>\n",
              "      <th>DecisionTreeClassifier</th>\n",
              "      <th>Svm</th>\n",
              "      <th>RandomForestClassifier</th>\n",
              "      <th>GradientBoostingClassifier</th>\n",
              "      <th>KNeighborClassifier</th>\n",
              "      <th>Gaussian Naive_Bayes</th>\n",
              "    </tr>\n",
              "  </thead>\n",
              "  <tbody>\n",
              "    <tr>\n",
              "      <th>0</th>\n",
              "      <td>Accuracy</td>\n",
              "      <td>1.0</td>\n",
              "      <td>1.0</td>\n",
              "      <td>1.0</td>\n",
              "      <td>1.0</td>\n",
              "      <td>0.982759</td>\n",
              "      <td>1.0</td>\n",
              "      <td>1.0</td>\n",
              "    </tr>\n",
              "    <tr>\n",
              "      <th>1</th>\n",
              "      <td>Precision</td>\n",
              "      <td>1.0</td>\n",
              "      <td>1.0</td>\n",
              "      <td>1.0</td>\n",
              "      <td>1.0</td>\n",
              "      <td>1.000000</td>\n",
              "      <td>1.0</td>\n",
              "      <td>1.0</td>\n",
              "    </tr>\n",
              "    <tr>\n",
              "      <th>2</th>\n",
              "      <td>Recall</td>\n",
              "      <td>1.0</td>\n",
              "      <td>1.0</td>\n",
              "      <td>1.0</td>\n",
              "      <td>1.0</td>\n",
              "      <td>0.962963</td>\n",
              "      <td>1.0</td>\n",
              "      <td>1.0</td>\n",
              "    </tr>\n",
              "  </tbody>\n",
              "</table>\n",
              "</div>\n",
              "      <button class=\"colab-df-convert\" onclick=\"convertToInteractive('df-8c0f510f-15ba-4c79-afd6-78151e9a347f')\"\n",
              "              title=\"Convert this dataframe to an interactive table.\"\n",
              "              style=\"display:none;\">\n",
              "        \n",
              "  <svg xmlns=\"http://www.w3.org/2000/svg\" height=\"24px\"viewBox=\"0 0 24 24\"\n",
              "       width=\"24px\">\n",
              "    <path d=\"M0 0h24v24H0V0z\" fill=\"none\"/>\n",
              "    <path d=\"M18.56 5.44l.94 2.06.94-2.06 2.06-.94-2.06-.94-.94-2.06-.94 2.06-2.06.94zm-11 1L8.5 8.5l.94-2.06 2.06-.94-2.06-.94L8.5 2.5l-.94 2.06-2.06.94zm10 10l.94 2.06.94-2.06 2.06-.94-2.06-.94-.94-2.06-.94 2.06-2.06.94z\"/><path d=\"M17.41 7.96l-1.37-1.37c-.4-.4-.92-.59-1.43-.59-.52 0-1.04.2-1.43.59L10.3 9.45l-7.72 7.72c-.78.78-.78 2.05 0 2.83L4 21.41c.39.39.9.59 1.41.59.51 0 1.02-.2 1.41-.59l7.78-7.78 2.81-2.81c.8-.78.8-2.07 0-2.86zM5.41 20L4 18.59l7.72-7.72 1.47 1.35L5.41 20z\"/>\n",
              "  </svg>\n",
              "      </button>\n",
              "      \n",
              "  <style>\n",
              "    .colab-df-container {\n",
              "      display:flex;\n",
              "      flex-wrap:wrap;\n",
              "      gap: 12px;\n",
              "    }\n",
              "\n",
              "    .colab-df-convert {\n",
              "      background-color: #E8F0FE;\n",
              "      border: none;\n",
              "      border-radius: 50%;\n",
              "      cursor: pointer;\n",
              "      display: none;\n",
              "      fill: #1967D2;\n",
              "      height: 32px;\n",
              "      padding: 0 0 0 0;\n",
              "      width: 32px;\n",
              "    }\n",
              "\n",
              "    .colab-df-convert:hover {\n",
              "      background-color: #E2EBFA;\n",
              "      box-shadow: 0px 1px 2px rgba(60, 64, 67, 0.3), 0px 1px 3px 1px rgba(60, 64, 67, 0.15);\n",
              "      fill: #174EA6;\n",
              "    }\n",
              "\n",
              "    [theme=dark] .colab-df-convert {\n",
              "      background-color: #3B4455;\n",
              "      fill: #D2E3FC;\n",
              "    }\n",
              "\n",
              "    [theme=dark] .colab-df-convert:hover {\n",
              "      background-color: #434B5C;\n",
              "      box-shadow: 0px 1px 3px 1px rgba(0, 0, 0, 0.15);\n",
              "      filter: drop-shadow(0px 1px 2px rgba(0, 0, 0, 0.3));\n",
              "      fill: #FFFFFF;\n",
              "    }\n",
              "  </style>\n",
              "\n",
              "      <script>\n",
              "        const buttonEl =\n",
              "          document.querySelector('#df-8c0f510f-15ba-4c79-afd6-78151e9a347f button.colab-df-convert');\n",
              "        buttonEl.style.display =\n",
              "          google.colab.kernel.accessAllowed ? 'block' : 'none';\n",
              "\n",
              "        async function convertToInteractive(key) {\n",
              "          const element = document.querySelector('#df-8c0f510f-15ba-4c79-afd6-78151e9a347f');\n",
              "          const dataTable =\n",
              "            await google.colab.kernel.invokeFunction('convertToInteractive',\n",
              "                                                     [key], {});\n",
              "          if (!dataTable) return;\n",
              "\n",
              "          const docLinkHtml = 'Like what you see? Visit the ' +\n",
              "            '<a target=\"_blank\" href=https://colab.research.google.com/notebooks/data_table.ipynb>data table notebook</a>'\n",
              "            + ' to learn more about interactive tables.';\n",
              "          element.innerHTML = '';\n",
              "          dataTable['output_type'] = 'display_data';\n",
              "          await google.colab.output.renderOutput(dataTable, element);\n",
              "          const docLink = document.createElement('div');\n",
              "          docLink.innerHTML = docLinkHtml;\n",
              "          element.appendChild(docLink);\n",
              "        }\n",
              "      </script>\n",
              "    </div>\n",
              "  </div>\n",
              "  "
            ]
          },
          "metadata": {},
          "execution_count": 22
        }
      ],
      "source": [
        "scoring1"
      ]
    },
    {
      "cell_type": "markdown",
      "source": [
        "**After Evaluating the Model, RandomForest Classifier was our prefered Model**"
      ],
      "metadata": {
        "id": "aIL5CWJlT-Ls"
      },
      "id": "aIL5CWJlT-Ls"
    },
    {
      "cell_type": "markdown",
      "source": [
        "**RandomForestClassifier**\n",
        "Evaluation Metric       Score\n",
        "Accuracy                1.0\n",
        "Precision               1.0\n",
        "Recall                  1.0"
      ],
      "metadata": {
        "id": "Y1azdliDVSHO"
      },
      "id": "Y1azdliDVSHO"
    }
  ],
  "metadata": {
    "kernelspec": {
      "display_name": "Python 3 (ipykernel)",
      "language": "python",
      "name": "python3"
    },
    "language_info": {
      "codemirror_mode": {
        "name": "ipython",
        "version": 3
      },
      "file_extension": ".py",
      "mimetype": "text/x-python",
      "name": "python",
      "nbconvert_exporter": "python",
      "pygments_lexer": "ipython3",
      "version": "3.9.12"
    },
    "colab": {
      "provenance": []
    }
  },
  "nbformat": 4,
  "nbformat_minor": 5
}